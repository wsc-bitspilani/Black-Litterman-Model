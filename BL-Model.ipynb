{
 "cells": [
  {
   "cell_type": "code",
   "execution_count": 2,
   "id": "0dcccc4c-7d02-4085-806b-387f0eba48d4",
   "metadata": {},
   "outputs": [],
   "source": [
    "import pandas as pd\n",
    "import numpy as np\n",
    "import yfinance as yf\n",
    "from datetime import datetime\n",
    "from dateutil.relativedelta import relativedelta\n",
    "from math import log\n",
    "import csv\n",
    "import string "
   ]
  },
  {
   "cell_type": "code",
   "execution_count": 48,
   "id": "74ace21c-c047-41a6-845a-c0ce72358fda",
   "metadata": {},
   "outputs": [
    {
     "name": "stderr",
     "output_type": "stream",
     "text": [
      "[*********************100%***********************]  1 of 1 completed\n",
      "[*********************100%***********************]  1 of 1 completed\n",
      "[*********************100%***********************]  1 of 1 completed\n",
      "[*********************100%***********************]  1 of 1 completed\n",
      "[*********************100%***********************]  1 of 1 completed\n",
      "[*********************100%***********************]  1 of 1 completed\n",
      "[*********************100%***********************]  1 of 1 completed\n",
      "[*********************100%***********************]  1 of 1 completed\n",
      "[*********************100%***********************]  1 of 1 completed\n",
      "[*********************100%***********************]  1 of 1 completed\n",
      "[*********************100%***********************]  1 of 1 completed\n",
      "[*********************100%***********************]  1 of 1 completed\n",
      "[*********************100%***********************]  1 of 1 completed\n",
      "[*********************100%***********************]  1 of 1 completed\n",
      "[*********************100%***********************]  1 of 1 completed\n",
      "[*********************100%***********************]  1 of 1 completed\n",
      "[*********************100%***********************]  1 of 1 completed\n",
      "[*********************100%***********************]  1 of 1 completed\n",
      "[*********************100%***********************]  1 of 1 completed\n",
      "[*********************100%***********************]  1 of 1 completed\n"
     ]
    }
   ],
   "source": [
    "#Portfolio Extraction\n",
    "\n",
    "data = pd.DataFrame(columns=['Ticker','Market Cap','Benchmark Proportion'])\n",
    "ticker_name= []\n",
    "#Reads ticker_name.csv: Column of Ticker Name, Column of Expexted Investor Returns in %\n",
    "with open(\"ticker_name.csv\", errors=\"ignore\") as f:\n",
    "    reader = csv.reader(f, delimiter=\",\")\n",
    "    for i in reader:\n",
    "        if i != \"\":\n",
    "            ticker_name.append(i[0]+\".NS\")\n",
    "\n",
    "for i in range(len(ticker_name)):\n",
    "    if ticker_name[i].strip() != \".NS\":\n",
    "        data.loc[i, \"Ticker\"]= ticker_name[i] \n",
    "for i in range(len(data['Ticker'].values)):\n",
    "    if(data['Ticker'].values[i].lstrip() != \".NS\"):\n",
    "        ticker_data = yf.download(data['Ticker'].values[i], start=(datetime.today()+ relativedelta(days = -60)).strftime('%Y-%m-%d'), end=datetime.today().strftime('%Y-%m-%d'), interval='1d')\n",
    "        ticker_info = yf.Ticker(data['Ticker'].values[i])\n",
    "        try:\n",
    "            data.loc[i, \"Market Cap\"] = ticker_info.info['marketCap']\n",
    "        except Exception: \n",
    "            pass\n",
    "        tick_data = ticker_data[\"Close\"]\n",
    "        for j in range(len(tick_data)):\n",
    "            close = tick_data.values[j][0]\n",
    "            col_name = \"Price \" + str(j+1)\n",
    "            try:\n",
    "                data.insert(j+3, col_name, close)\n",
    "            except: \n",
    "                data.at[i , col_name] = close\n",
    "for i in range(len(data)):\n",
    "    data.loc[i, 'Benchmark Proportion'] = data.loc[i, 'Market Cap']/data['Market Cap'].sum()\n",
    "        \n",
    "data.to_excel('data.xlsx')\n",
    "#After execution of this block, \n",
    "# 1. Open data.xlsx and delete the index row.\n",
    "# 2. Use text to columns to seperate the list of close prices to different cells.\n",
    "# 3. Remove all [] brackets using CTRL+H\n",
    "# 4. Raname Returns column as Price 1, and then name all other prices as Price 2 to Price 43(currently)"
   ]
  },
  {
   "cell_type": "code",
   "execution_count": 61,
   "id": "e7738536-5cca-4c5f-8b23-740ab4b978f7",
   "metadata": {},
   "outputs": [
    {
     "name": "stdout",
     "output_type": "stream",
     "text": [
      "45\n"
     ]
    }
   ],
   "source": [
    "#Variance-Covariance Matric Calculation\n",
    "\n",
    "\n",
    "price_data = pd.read_excel(\"data.xlsx\")\n",
    "col_size = price_data.shape[1]\n",
    "row_size = price_data.shape[0]\n",
    "returns = []\n",
    "print(col_size)\n",
    "#Calculates log returns into returns\n",
    "for i in range(0, row_size):\n",
    "    entry = []\n",
    "    for j in range(3, col_size-2):\n",
    "        num = price_data.loc[i, 'Price ' + str(j-2)]\n",
    "        denom = price_data.loc[i, 'Price ' + str(j-1)]\n",
    "        entry.append((log(num/denom)))\n",
    "    returns.append(entry)\n",
    "\n",
    "varcov = np.cov(returns)\n",
    "inverse = np.linalg.inv(varcov)"
   ]
  },
  {
   "cell_type": "code",
   "execution_count": 63,
   "id": "d8619f7c-4595-458e-9024-1739f5a5ab11",
   "metadata": {},
   "outputs": [
    {
     "name": "stdout",
     "output_type": "stream",
     "text": [
      "[[6376.216334473713]]\n"
     ]
    }
   ],
   "source": [
    "#Normalizing Factor Calculation\n",
    "prop = data['Benchmark Proportion']\n",
    "bench_prop = np.matrix(prop)   #Benchmark Proportions, Market share of stock i in the portfolio\n",
    "a_ret = 1     #Anticipated returns \n",
    "rfr = 0.127   #Risk Free Rate\n",
    "benchprop_t = bench_prop.transpose()\n",
    "\n",
    "norm_fact = (a_ret-rfr)/(np.dot(bench_prop, np.dot(varcov, benchprop_t)))\n",
    "print(norm_fact)"
   ]
  },
  {
   "cell_type": "code",
   "execution_count": 67,
   "id": "6150e892-f189-439d-8556-19f8d3722a92",
   "metadata": {},
   "outputs": [
    {
     "name": "stdout",
     "output_type": "stream",
     "text": [
      "[[0.8860340185422027]\n",
      " [0.6474045119118751]\n",
      " [0.9561405925589757]\n",
      " [1.1754955866647097]\n",
      " [0.9416131999316781]\n",
      " [1.167678510603784]\n",
      " [0.6120261696873719]\n",
      " [-0.0727636299828264]\n",
      " [0.6337139302232446]\n",
      " [0.2299622213695876]\n",
      " [0.6780572757524203]\n",
      " [0.5188475615174468]\n",
      " [1.1937025925518074]\n",
      " [0.8756833101033864]\n",
      " [0.3005140554519468]\n",
      " [0.4614548807800306]\n",
      " [0.11689480974429449]\n",
      " [0.9724479043302837]\n",
      " [0.9166494788294807]\n",
      " [0.651358965442323]]\n"
     ]
    }
   ],
   "source": [
    "#Expected Benchmark Return with no investor opinion\n",
    "exp_benchret_no = np.dot(varcov, benchprop_t)*norm_fact+rfr\n",
    "print(exp_benchret_no)"
   ]
  },
  {
   "cell_type": "code",
   "execution_count": 69,
   "id": "17bd1ec5-3e91-48fe-b46f-f9bac7653ae9",
   "metadata": {},
   "outputs": [
    {
     "name": "stdout",
     "output_type": "stream",
     "text": [
      "[[0.004715821847801723]\n",
      " [0.16470493761054053]\n",
      " [0.012267774930402963]\n",
      " [0.003369957693634626]\n",
      " [0.041883160594649485]\n",
      " [0.6450769631473057]\n",
      " [0.007509217451929425]\n",
      " [0.0016632470295588745]\n",
      " [0.0005006076256095537]\n",
      " [0.001954838003138791]\n",
      " [0.0042415869614073265]\n",
      " [0.005433194977035705]\n",
      " [0.004270862725347029]\n",
      " [0.03063069778556192]\n",
      " [0.008527065280101899]\n",
      " [0.017581424128034078]\n",
      " [0.011591905130816557]\n",
      " [0.007290520939984482]\n",
      " [0.005255901154086398]\n",
      " [0.02153031498305275]]\n"
     ]
    }
   ],
   "source": [
    "#optimized Portfolio with no investor opinion\n",
    "opt_port_no = np.dot(inverse,exp_benchret_no-rfr)/(np.dot(inverse,exp_benchret_no-rfr)).sum()\n",
    "print(opt_port_no)"
   ]
  },
  {
   "cell_type": "code",
   "execution_count": 71,
   "id": "fee5fd79-3360-4218-8d07-aa129175ba38",
   "metadata": {},
   "outputs": [
    {
     "name": "stdout",
     "output_type": "stream",
     "text": [
      "[[1.6569269839128835]\n",
      " [0.9703854970263925]\n",
      " [1.575471059080927]\n",
      " [2.1621699572452933]\n",
      " [2.136661539863842]\n",
      " [1.49077574975975]\n",
      " [1.3219215775933644]\n",
      " [0.2684269736757746]\n",
      " [1.4864635639353452]\n",
      " [0.6740779600446265]\n",
      " [1.4960049332416094]\n",
      " [1.0455427802382293]\n",
      " [1.935354826502699]\n",
      " [1.5337930489808045]\n",
      " [0.7575153391229174]\n",
      " [0.7372247173310844]\n",
      " [0.3732158755068965]\n",
      " [1.8279611980705783]\n",
      " [1.9826066016037855]\n",
      " [1.2459141120263928]]\n"
     ]
    }
   ],
   "source": [
    "# Expected Benchmark Returns with Investor Opinion\n",
    "blm_matrix = np.matrix(varcov/np.var(returns))\n",
    "inv_opinion = []\n",
    "with open(\"ticker_name.csv\", errors=\"ignore\") as f:\n",
    "    reader = csv.reader(f, delimiter=\",\")\n",
    "    for i in reader:\n",
    "        if i != \"\":\n",
    "            inv_opinion.append(float(i[1]))\n",
    "#inv_op_matrix = np.matrix(inv_opinion, data = 'float')\n",
    "opinion_returns = exp_benchret_no + np.dot(inv_opinion, blm_matrix).transpose()\n",
    "print(opinion_returns)"
   ]
  },
  {
   "cell_type": "code",
   "execution_count": 73,
   "id": "8c3b8691-5037-463e-9c26-dcf9daf2a0af",
   "metadata": {},
   "outputs": [
    {
     "name": "stdout",
     "output_type": "stream",
     "text": [
      "[[0.004551151110948014]\n",
      " [0.16433462709748595]\n",
      " [0.0072856342994345805]\n",
      " [0.002001363694694315]\n",
      " [0.10189575035772572]\n",
      " [0.39185333903240566]\n",
      " [0.00796060418305103]\n",
      " [0.020243279331815005]\n",
      " [0.023053807147520148]\n",
      " [0.023917451188751198]\n",
      " [0.025275514630498264]\n",
      " [0.02598319147323433]\n",
      " [0.01478989903892917]\n",
      " [0.03394558195399093]\n",
      " [0.010315587976887912]\n",
      " [0.020944327126294186]\n",
      " [0.01738724808866936]\n",
      " [0.0585952334932889]\n",
      " [0.024127399189326625]\n",
      " [0.02153900958504838]]\n"
     ]
    }
   ],
   "source": [
    "#Optimized Portfolio adjusted for Investor Opinion\n",
    "opt_port_weights = np.dot(inverse,opinion_returns-rfr)/(np.dot(inverse,opinion_returns-rfr)).sum()\n",
    "print(opt_port_weights)"
   ]
  },
  {
   "cell_type": "code",
   "execution_count": null,
   "id": "ff090bcb-b277-4560-aba6-c654f94a48f1",
   "metadata": {},
   "outputs": [],
   "source": []
  }
 ],
 "metadata": {
  "kernelspec": {
   "display_name": "Python 3 (ipykernel)",
   "language": "python",
   "name": "python3"
  },
  "language_info": {
   "codemirror_mode": {
    "name": "ipython",
    "version": 3
   },
   "file_extension": ".py",
   "mimetype": "text/x-python",
   "name": "python",
   "nbconvert_exporter": "python",
   "pygments_lexer": "ipython3",
   "version": "3.12.3"
  }
 },
 "nbformat": 4,
 "nbformat_minor": 5
}
