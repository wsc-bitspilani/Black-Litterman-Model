import pandas as pd
import numpy as np
import yfinance as yf
from datetime import datetime
from dateutil.relativedelta import relativedelta
from math import log
import csv
import string 

#Portfolio Extraction

data = pd.DataFrame(columns=['Ticker','Market Cap','Benchmark Proportion', 'Returns'])
ticker_name= []
#Reads ticker_name.csv: Column of Ticker Name, Column of Expexted Investor Returns in %
with open("ticker_name.csv", errors="ignore") as f:
    reader = csv.reader(f, delimiter=",")
    for i in reader:
        if i != "":
            ticker_name.append(i[0]+".NS")

for i in range(len(ticker_name)):
    if ticker_name[i].strip() != ".NS":
        data.loc[i, "Ticker"]= ticker_name[i] 
for i in range(len(data['Ticker'].values)):
    if(data['Ticker'].values[i].lstrip() != ".NS"):
        ticker_data = yf.download(data['Ticker'].values[i], start=(datetime.today()+ relativedelta(days = -60)).strftime('%Y-%m-%d'), end=datetime.today().strftime('%Y-%m-%d'), interval='1d')
        ticker_info = yf.Ticker(data['Ticker'].values[i])
        try:
            data.loc[i, "Market Cap"] = ticker_info.info['marketCap']
        except Exception: 
            pass
        tick_data = str(list(ticker_data["Adj Close"]))
        data.at[i, "Returns"] = tick_data
for i in range(len(data)):
    data.loc[i, 'Benchmark Proportion'] = data.loc[i, 'Market Cap']/data['Market Cap'].sum()
        
data.to_excel('data.xlsx')
#After execution of this block, 
# 1. Open data.xlsx and delete the index row.
# 2. Use text to columns to seperate the list of close prices to different cells.
# 3. Remove all [] brackets using CTRL+H
# 4. Raname Returns column as Price 1, and then name all other prices as Price 2 to Price 43(currently)

#Variance-Covariance Matric Calculation


price_data = pd.read_excel("data.xlsx")
col_size = price_data.shape[1]
row_size = price_data.shape[0]
returns = []
#Calculates log returns into returns
for i in range(0, row_size):
    entry = []
    for j in range(3, col_size-1):
        num = price_data.loc[i, 'Price ' + str(j-2)]
        denom = price_data.loc[i, 'Price ' + str(j-1)]
        entry.append((log(num/denom)))
    returns.append(entry)

varcov = np.cov(returns)
inverse = np.linalg.inv(varcov)

#Normalizing Factor Calculation
prop = data['Benchmark Proportion']
bench_prop = np.matrix(prop)   #Benchmark Proportions, Market share of stock i in the portfolio
a_ret = 1     #Anticipated returns 
rfr = 0.127   #Risk Free Rate
benchprop_t = bench_prop.transpose()

norm_fact = (a_ret-rfr)/(np.dot(bench_prop, np.dot(varcov, benchprop_t)))
print(norm_fact)

#Expected Benchmark Return with no investor opinion
exp_benchret_no = np.dot(varcov, benchprop_t)*norm_fact+rfr
print(exp_benchret_no)

#optimized Portfolio with no investor opinion
opt_port_no = np.dot(inverse,exp_benchret_no-rfr)/(np.dot(inverse,exp_benchret_no-rfr)).sum()
print(opt_port_no)

# Expected Benchmark Returns with Investor Opinion
blm_matrix = np.matrix(varcov/np.var(returns))
inv_opinion = []
with open("ticker_name.csv", errors="ignore") as f:
    reader = csv.reader(f, delimiter=",")
    for i in reader:
        if i != "":
            inv_opinion.append(float(i[1]))
#inv_op_matrix = np.matrix(inv_opinion, data = 'float')
opinion_returns = exp_benchret_no + np.dot(inv_opinion, blm_matrix).transpose()
print(opinion_returns)

#Optimized Portfolio adjusted for Investor Opinion
opt_port_weights = np.dot(inverse,opinion_returns-rfr)/(np.dot(inverse,opinion_returns-rfr)).sum()
print(opt_port_weights)
