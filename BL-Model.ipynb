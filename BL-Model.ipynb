{
 "cells": [
  {
   "cell_type": "code",
   "execution_count": 273,
   "id": "0dcccc4c-7d02-4085-806b-387f0eba48d4",
   "metadata": {},
   "outputs": [],
   "source": [
    "import pandas as pd\n",
    "import numpy as np\n",
    "import yfinance as yf\n",
    "from datetime import datetime\n",
    "from dateutil.relativedelta import relativedelta\n",
    "from math import log\n",
    "import csv\n",
    "import string "
   ]
  },
  {
   "cell_type": "code",
   "execution_count": 413,
   "id": "74ace21c-c047-41a6-845a-c0ce72358fda",
   "metadata": {},
   "outputs": [
    {
     "name": "stderr",
     "output_type": "stream",
     "text": [
      "[*********************100%%**********************]  1 of 1 completed\n",
      "[*********************100%%**********************]  1 of 1 completed\n",
      "[*********************100%%**********************]  1 of 1 completed\n",
      "[*********************100%%**********************]  1 of 1 completed\n",
      "[*********************100%%**********************]  1 of 1 completed\n",
      "[*********************100%%**********************]  1 of 1 completed\n",
      "[*********************100%%**********************]  1 of 1 completed\n",
      "[*********************100%%**********************]  1 of 1 completed\n",
      "[*********************100%%**********************]  1 of 1 completed\n",
      "[*********************100%%**********************]  1 of 1 completed\n",
      "[*********************100%%**********************]  1 of 1 completed\n",
      "[*********************100%%**********************]  1 of 1 completed\n",
      "[*********************100%%**********************]  1 of 1 completed\n",
      "[*********************100%%**********************]  1 of 1 completed\n",
      "[*********************100%%**********************]  1 of 1 completed\n",
      "[*********************100%%**********************]  1 of 1 completed\n",
      "[*********************100%%**********************]  1 of 1 completed\n",
      "[*********************100%%**********************]  1 of 1 completed\n",
      "[*********************100%%**********************]  1 of 1 completed\n",
      "[*********************100%%**********************]  1 of 1 completed\n"
     ]
    },
    {
     "ename": "PermissionError",
     "evalue": "[Errno 13] Permission denied: 'data.xlsx'",
     "output_type": "error",
     "traceback": [
      "\u001b[1;31m---------------------------------------------------------------------------\u001b[0m",
      "\u001b[1;31mPermissionError\u001b[0m                           Traceback (most recent call last)",
      "Cell \u001b[1;32mIn[413], line 28\u001b[0m\n\u001b[0;32m     25\u001b[0m \u001b[38;5;28;01mfor\u001b[39;00m i \u001b[38;5;129;01min\u001b[39;00m \u001b[38;5;28mrange\u001b[39m(\u001b[38;5;28mlen\u001b[39m(data)):\n\u001b[0;32m     26\u001b[0m     data\u001b[38;5;241m.\u001b[39mloc[i, \u001b[38;5;124m'\u001b[39m\u001b[38;5;124mBenchmark Proportion\u001b[39m\u001b[38;5;124m'\u001b[39m] \u001b[38;5;241m=\u001b[39m data\u001b[38;5;241m.\u001b[39mloc[i, \u001b[38;5;124m'\u001b[39m\u001b[38;5;124mMarket Cap\u001b[39m\u001b[38;5;124m'\u001b[39m]\u001b[38;5;241m/\u001b[39mdata[\u001b[38;5;124m'\u001b[39m\u001b[38;5;124mMarket Cap\u001b[39m\u001b[38;5;124m'\u001b[39m]\u001b[38;5;241m.\u001b[39msum()\n\u001b[1;32m---> 28\u001b[0m data\u001b[38;5;241m.\u001b[39mto_excel(\u001b[38;5;124m'\u001b[39m\u001b[38;5;124mdata.xlsx\u001b[39m\u001b[38;5;124m'\u001b[39m)\n",
      "File \u001b[1;32m~\\anaconda3\\Lib\\site-packages\\pandas\\util\\_decorators.py:333\u001b[0m, in \u001b[0;36mdeprecate_nonkeyword_arguments.<locals>.decorate.<locals>.wrapper\u001b[1;34m(*args, **kwargs)\u001b[0m\n\u001b[0;32m    327\u001b[0m \u001b[38;5;28;01mif\u001b[39;00m \u001b[38;5;28mlen\u001b[39m(args) \u001b[38;5;241m>\u001b[39m num_allow_args:\n\u001b[0;32m    328\u001b[0m     warnings\u001b[38;5;241m.\u001b[39mwarn(\n\u001b[0;32m    329\u001b[0m         msg\u001b[38;5;241m.\u001b[39mformat(arguments\u001b[38;5;241m=\u001b[39m_format_argument_list(allow_args)),\n\u001b[0;32m    330\u001b[0m         \u001b[38;5;167;01mFutureWarning\u001b[39;00m,\n\u001b[0;32m    331\u001b[0m         stacklevel\u001b[38;5;241m=\u001b[39mfind_stack_level(),\n\u001b[0;32m    332\u001b[0m     )\n\u001b[1;32m--> 333\u001b[0m \u001b[38;5;28;01mreturn\u001b[39;00m func(\u001b[38;5;241m*\u001b[39margs, \u001b[38;5;241m*\u001b[39m\u001b[38;5;241m*\u001b[39mkwargs)\n",
      "File \u001b[1;32m~\\anaconda3\\Lib\\site-packages\\pandas\\core\\generic.py:2417\u001b[0m, in \u001b[0;36mNDFrame.to_excel\u001b[1;34m(self, excel_writer, sheet_name, na_rep, float_format, columns, header, index, index_label, startrow, startcol, engine, merge_cells, inf_rep, freeze_panes, storage_options, engine_kwargs)\u001b[0m\n\u001b[0;32m   2404\u001b[0m \u001b[38;5;28;01mfrom\u001b[39;00m \u001b[38;5;21;01mpandas\u001b[39;00m\u001b[38;5;21;01m.\u001b[39;00m\u001b[38;5;21;01mio\u001b[39;00m\u001b[38;5;21;01m.\u001b[39;00m\u001b[38;5;21;01mformats\u001b[39;00m\u001b[38;5;21;01m.\u001b[39;00m\u001b[38;5;21;01mexcel\u001b[39;00m \u001b[38;5;28;01mimport\u001b[39;00m ExcelFormatter\n\u001b[0;32m   2406\u001b[0m formatter \u001b[38;5;241m=\u001b[39m ExcelFormatter(\n\u001b[0;32m   2407\u001b[0m     df,\n\u001b[0;32m   2408\u001b[0m     na_rep\u001b[38;5;241m=\u001b[39mna_rep,\n\u001b[1;32m   (...)\u001b[0m\n\u001b[0;32m   2415\u001b[0m     inf_rep\u001b[38;5;241m=\u001b[39minf_rep,\n\u001b[0;32m   2416\u001b[0m )\n\u001b[1;32m-> 2417\u001b[0m formatter\u001b[38;5;241m.\u001b[39mwrite(\n\u001b[0;32m   2418\u001b[0m     excel_writer,\n\u001b[0;32m   2419\u001b[0m     sheet_name\u001b[38;5;241m=\u001b[39msheet_name,\n\u001b[0;32m   2420\u001b[0m     startrow\u001b[38;5;241m=\u001b[39mstartrow,\n\u001b[0;32m   2421\u001b[0m     startcol\u001b[38;5;241m=\u001b[39mstartcol,\n\u001b[0;32m   2422\u001b[0m     freeze_panes\u001b[38;5;241m=\u001b[39mfreeze_panes,\n\u001b[0;32m   2423\u001b[0m     engine\u001b[38;5;241m=\u001b[39mengine,\n\u001b[0;32m   2424\u001b[0m     storage_options\u001b[38;5;241m=\u001b[39mstorage_options,\n\u001b[0;32m   2425\u001b[0m     engine_kwargs\u001b[38;5;241m=\u001b[39mengine_kwargs,\n\u001b[0;32m   2426\u001b[0m )\n",
      "File \u001b[1;32m~\\anaconda3\\Lib\\site-packages\\pandas\\io\\formats\\excel.py:943\u001b[0m, in \u001b[0;36mExcelFormatter.write\u001b[1;34m(self, writer, sheet_name, startrow, startcol, freeze_panes, engine, storage_options, engine_kwargs)\u001b[0m\n\u001b[0;32m    941\u001b[0m     need_save \u001b[38;5;241m=\u001b[39m \u001b[38;5;28;01mFalse\u001b[39;00m\n\u001b[0;32m    942\u001b[0m \u001b[38;5;28;01melse\u001b[39;00m:\n\u001b[1;32m--> 943\u001b[0m     writer \u001b[38;5;241m=\u001b[39m ExcelWriter(\n\u001b[0;32m    944\u001b[0m         writer,\n\u001b[0;32m    945\u001b[0m         engine\u001b[38;5;241m=\u001b[39mengine,\n\u001b[0;32m    946\u001b[0m         storage_options\u001b[38;5;241m=\u001b[39mstorage_options,\n\u001b[0;32m    947\u001b[0m         engine_kwargs\u001b[38;5;241m=\u001b[39mengine_kwargs,\n\u001b[0;32m    948\u001b[0m     )\n\u001b[0;32m    949\u001b[0m     need_save \u001b[38;5;241m=\u001b[39m \u001b[38;5;28;01mTrue\u001b[39;00m\n\u001b[0;32m    951\u001b[0m \u001b[38;5;28;01mtry\u001b[39;00m:\n",
      "File \u001b[1;32m~\\anaconda3\\Lib\\site-packages\\pandas\\io\\excel\\_openpyxl.py:61\u001b[0m, in \u001b[0;36mOpenpyxlWriter.__init__\u001b[1;34m(self, path, engine, date_format, datetime_format, mode, storage_options, if_sheet_exists, engine_kwargs, **kwargs)\u001b[0m\n\u001b[0;32m     57\u001b[0m \u001b[38;5;28;01mfrom\u001b[39;00m \u001b[38;5;21;01mopenpyxl\u001b[39;00m\u001b[38;5;21;01m.\u001b[39;00m\u001b[38;5;21;01mworkbook\u001b[39;00m \u001b[38;5;28;01mimport\u001b[39;00m Workbook\n\u001b[0;32m     59\u001b[0m engine_kwargs \u001b[38;5;241m=\u001b[39m combine_kwargs(engine_kwargs, kwargs)\n\u001b[1;32m---> 61\u001b[0m \u001b[38;5;28msuper\u001b[39m()\u001b[38;5;241m.\u001b[39m\u001b[38;5;21m__init__\u001b[39m(\n\u001b[0;32m     62\u001b[0m     path,\n\u001b[0;32m     63\u001b[0m     mode\u001b[38;5;241m=\u001b[39mmode,\n\u001b[0;32m     64\u001b[0m     storage_options\u001b[38;5;241m=\u001b[39mstorage_options,\n\u001b[0;32m     65\u001b[0m     if_sheet_exists\u001b[38;5;241m=\u001b[39mif_sheet_exists,\n\u001b[0;32m     66\u001b[0m     engine_kwargs\u001b[38;5;241m=\u001b[39mengine_kwargs,\n\u001b[0;32m     67\u001b[0m )\n\u001b[0;32m     69\u001b[0m \u001b[38;5;66;03m# ExcelWriter replaced \"a\" by \"r+\" to allow us to first read the excel file from\u001b[39;00m\n\u001b[0;32m     70\u001b[0m \u001b[38;5;66;03m# the file and later write to it\u001b[39;00m\n\u001b[0;32m     71\u001b[0m \u001b[38;5;28;01mif\u001b[39;00m \u001b[38;5;124m\"\u001b[39m\u001b[38;5;124mr+\u001b[39m\u001b[38;5;124m\"\u001b[39m \u001b[38;5;129;01min\u001b[39;00m \u001b[38;5;28mself\u001b[39m\u001b[38;5;241m.\u001b[39m_mode:  \u001b[38;5;66;03m# Load from existing workbook\u001b[39;00m\n",
      "File \u001b[1;32m~\\anaconda3\\Lib\\site-packages\\pandas\\io\\excel\\_base.py:1246\u001b[0m, in \u001b[0;36mExcelWriter.__init__\u001b[1;34m(self, path, engine, date_format, datetime_format, mode, storage_options, if_sheet_exists, engine_kwargs)\u001b[0m\n\u001b[0;32m   1242\u001b[0m \u001b[38;5;28mself\u001b[39m\u001b[38;5;241m.\u001b[39m_handles \u001b[38;5;241m=\u001b[39m IOHandles(\n\u001b[0;32m   1243\u001b[0m     cast(IO[\u001b[38;5;28mbytes\u001b[39m], path), compression\u001b[38;5;241m=\u001b[39m{\u001b[38;5;124m\"\u001b[39m\u001b[38;5;124mcompression\u001b[39m\u001b[38;5;124m\"\u001b[39m: \u001b[38;5;28;01mNone\u001b[39;00m}\n\u001b[0;32m   1244\u001b[0m )\n\u001b[0;32m   1245\u001b[0m \u001b[38;5;28;01mif\u001b[39;00m \u001b[38;5;129;01mnot\u001b[39;00m \u001b[38;5;28misinstance\u001b[39m(path, ExcelWriter):\n\u001b[1;32m-> 1246\u001b[0m     \u001b[38;5;28mself\u001b[39m\u001b[38;5;241m.\u001b[39m_handles \u001b[38;5;241m=\u001b[39m get_handle(\n\u001b[0;32m   1247\u001b[0m         path, mode, storage_options\u001b[38;5;241m=\u001b[39mstorage_options, is_text\u001b[38;5;241m=\u001b[39m\u001b[38;5;28;01mFalse\u001b[39;00m\n\u001b[0;32m   1248\u001b[0m     )\n\u001b[0;32m   1249\u001b[0m \u001b[38;5;28mself\u001b[39m\u001b[38;5;241m.\u001b[39m_cur_sheet \u001b[38;5;241m=\u001b[39m \u001b[38;5;28;01mNone\u001b[39;00m\n\u001b[0;32m   1251\u001b[0m \u001b[38;5;28;01mif\u001b[39;00m date_format \u001b[38;5;129;01mis\u001b[39;00m \u001b[38;5;28;01mNone\u001b[39;00m:\n",
      "File \u001b[1;32m~\\anaconda3\\Lib\\site-packages\\pandas\\io\\common.py:882\u001b[0m, in \u001b[0;36mget_handle\u001b[1;34m(path_or_buf, mode, encoding, compression, memory_map, is_text, errors, storage_options)\u001b[0m\n\u001b[0;32m    873\u001b[0m         handle \u001b[38;5;241m=\u001b[39m \u001b[38;5;28mopen\u001b[39m(\n\u001b[0;32m    874\u001b[0m             handle,\n\u001b[0;32m    875\u001b[0m             ioargs\u001b[38;5;241m.\u001b[39mmode,\n\u001b[1;32m   (...)\u001b[0m\n\u001b[0;32m    878\u001b[0m             newline\u001b[38;5;241m=\u001b[39m\u001b[38;5;124m\"\u001b[39m\u001b[38;5;124m\"\u001b[39m,\n\u001b[0;32m    879\u001b[0m         )\n\u001b[0;32m    880\u001b[0m     \u001b[38;5;28;01melse\u001b[39;00m:\n\u001b[0;32m    881\u001b[0m         \u001b[38;5;66;03m# Binary mode\u001b[39;00m\n\u001b[1;32m--> 882\u001b[0m         handle \u001b[38;5;241m=\u001b[39m \u001b[38;5;28mopen\u001b[39m(handle, ioargs\u001b[38;5;241m.\u001b[39mmode)\n\u001b[0;32m    883\u001b[0m     handles\u001b[38;5;241m.\u001b[39mappend(handle)\n\u001b[0;32m    885\u001b[0m \u001b[38;5;66;03m# Convert BytesIO or file objects passed with an encoding\u001b[39;00m\n",
      "\u001b[1;31mPermissionError\u001b[0m: [Errno 13] Permission denied: 'data.xlsx'"
     ]
    }
   ],
   "source": [
    "#Portfolio Extraction\n",
    "\n",
    "data = pd.DataFrame(columns=['Ticker','Market Cap','Benchmark Proportion', 'Returns'])\n",
    "ticker_name= []\n",
    "#Reads ticker_name.csv: Column of Ticker Name, Column of Expexted Investor Returns in %\n",
    "with open(\"ticker_name.csv\", errors=\"ignore\") as f:\n",
    "    reader = csv.reader(f, delimiter=\",\")\n",
    "    for i in reader:\n",
    "        if i != \"\":\n",
    "            ticker_name.append(i[0]+\".NS\")\n",
    "\n",
    "for i in range(len(ticker_name)):\n",
    "    if ticker_name[i].strip() != \".NS\":\n",
    "        data.loc[i, \"Ticker\"]= ticker_name[i] \n",
    "for i in range(len(data['Ticker'].values)):\n",
    "    if(data['Ticker'].values[i].lstrip() != \".NS\"):\n",
    "        ticker_data = yf.download(data['Ticker'].values[i], start=(datetime.today()+ relativedelta(days = -60)).strftime('%Y-%m-%d'), end=datetime.today().strftime('%Y-%m-%d'), interval='1d')\n",
    "        ticker_info = yf.Ticker(data['Ticker'].values[i])\n",
    "        try:\n",
    "            data.loc[i, \"Market Cap\"] = ticker_info.info['marketCap']\n",
    "        except Exception: \n",
    "            pass\n",
    "        tick_data = str(list(ticker_data[\"Adj Close\"]))\n",
    "        data.at[i, \"Returns\"] = tick_data\n",
    "for i in range(len(data)):\n",
    "    data.loc[i, 'Benchmark Proportion'] = data.loc[i, 'Market Cap']/data['Market Cap'].sum()\n",
    "        \n",
    "data.to_excel('data.xlsx')\n",
    "#After execution of this block, \n",
    "# 1. Open data.xlsx and delete the index row.\n",
    "# 2. Use text to columns to seperate the list of close prices to different cells.\n",
    "# 3. Remove all [] brackets using CTRL+H\n",
    "# 4. Raname Returns column as Price 1, and then name all other prices as Price 2 to Price 43(currently)"
   ]
  },
  {
   "cell_type": "code",
   "execution_count": 469,
   "id": "e7738536-5cca-4c5f-8b23-740ab4b978f7",
   "metadata": {},
   "outputs": [],
   "source": [
    "#Variance-Covariance Matric Calculation\n",
    "\n",
    "\n",
    "price_data = pd.read_excel(\"data.xlsx\")\n",
    "col_size = price_data.shape[1]\n",
    "row_size = price_data.shape[0]\n",
    "returns = []\n",
    "#Calculates log returns into returns\n",
    "for i in range(0, row_size):\n",
    "    entry = []\n",
    "    for j in range(3, col_size-1):\n",
    "        num = price_data.loc[i, 'Price ' + str(j-2)]\n",
    "        denom = price_data.loc[i, 'Price ' + str(j-1)]\n",
    "        entry.append((log(num/denom)))\n",
    "    returns.append(entry)\n",
    "\n",
    "varcov = np.cov(returns)\n",
    "inverse = np.linalg.inv(varcov)"
   ]
  },
  {
   "cell_type": "code",
   "execution_count": 417,
   "id": "d8619f7c-4595-458e-9024-1739f5a5ab11",
   "metadata": {},
   "outputs": [
    {
     "name": "stdout",
     "output_type": "stream",
     "text": [
      "[[7530.42556891021]]\n"
     ]
    }
   ],
   "source": [
    "#Normalizing Factor Calculation\n",
    "prop = data['Benchmark Proportion']\n",
    "bench_prop = np.matrix(prop)   #Benchmark Proportions, Market share of stock i in the portfolio\n",
    "a_ret = 1     #Anticipated returns \n",
    "rfr = 0.127   #Risk Free Rate\n",
    "benchprop_t = bench_prop.transpose()\n",
    "\n",
    "norm_fact = (a_ret-rfr)/(np.dot(bench_prop, np.dot(varcov, benchprop_t)))\n",
    "print(norm_fact)"
   ]
  },
  {
   "cell_type": "code",
   "execution_count": 419,
   "id": "6150e892-f189-439d-8556-19f8d3722a92",
   "metadata": {},
   "outputs": [
    {
     "name": "stdout",
     "output_type": "stream",
     "text": [
      "[[0.88521856180566]\n",
      " [0.8600531572790198]\n",
      " [0.6030957359359475]\n",
      " [0.8005749402527231]\n",
      " [0.6549419645193454]\n",
      " [1.128655990768649]\n",
      " [0.9480162812791308]\n",
      " [0.6877181903599972]\n",
      " [0.7743841136052871]\n",
      " [1.1919101194555448]\n",
      " [1.1587065146810003]\n",
      " [1.008350004904983]\n",
      " [0.744760685585209]\n",
      " [0.819956676601485]\n",
      " [0.844927766275275]\n",
      " [0.6965480955717861]\n",
      " [0.31836594574893906]\n",
      " [1.2309646005778878]\n",
      " [0.9447109094533371]\n",
      " [0.39396267531594165]]\n"
     ]
    }
   ],
   "source": [
    "#Expected Benchmark Return with no investor opinion\n",
    "exp_benchret_no = np.dot(varcov, benchprop_t)*norm_fact+rfr\n",
    "print(exp_benchret_no)"
   ]
  },
  {
   "cell_type": "code",
   "execution_count": 421,
   "id": "17bd1ec5-3e91-48fe-b46f-f9bac7653ae9",
   "metadata": {},
   "outputs": [
    {
     "name": "stdout",
     "output_type": "stream",
     "text": [
      "[[0.004995683901439752]\n",
      " [0.17737346966637121]\n",
      " [0.01340164158797769]\n",
      " [0.0038806352193226142]\n",
      " [0.036991416511071566]\n",
      " [0.6290602278805622]\n",
      " [0.00884846135903415]\n",
      " [0.001358415129901061]\n",
      " [0.0005257757218774887]\n",
      " [0.0026533931387407966]\n",
      " [0.005400159217540468]\n",
      " [0.006084078695618569]\n",
      " [0.004803578338538389]\n",
      " [0.028995367461380556]\n",
      " [0.007492152702714615]\n",
      " [0.013401413035288781]\n",
      " [0.014344266210354395]\n",
      " [0.006874949221243146]\n",
      " [0.0055975804637753345]\n",
      " [0.027917334537247148]]\n"
     ]
    }
   ],
   "source": [
    "#optimized Portfolio with no investor opinion\n",
    "opt_port_no = np.dot(inverse,exp_benchret_no-rfr)/(np.dot(inverse,exp_benchret_no-rfr)).sum()\n",
    "print(opt_port_no)"
   ]
  },
  {
   "cell_type": "code",
   "execution_count": 465,
   "id": "fee5fd79-3360-4218-8d07-aa129175ba38",
   "metadata": {},
   "outputs": [
    {
     "name": "stdout",
     "output_type": "stream",
     "text": [
      "[[1.7999996807924683]\n",
      " [1.4321318955437619]\n",
      " [1.4508545801226418]\n",
      " [1.8922866520170964]\n",
      " [1.6009941555056502]\n",
      " [1.4831525686968416]\n",
      " [1.6163315040659398]\n",
      " [1.4366819847520758]\n",
      " [1.6144583256259897]\n",
      " [2.4606594803823816]\n",
      " [2.1606719300170645]\n",
      " [2.0311731814652005]\n",
      " [1.6663787929615173]\n",
      " [1.5409720427833844]\n",
      " [1.7931135688319477]\n",
      " [1.1430089254570037]\n",
      " [0.8549435657353358]\n",
      " [2.487496979305008]\n",
      " [1.9060829735513685]\n",
      " [0.514153614982875]]\n"
     ]
    }
   ],
   "source": [
    "# Expected Benchmark Returns with Investor Opinion\n",
    "blm_matrix = np.matrix(varcov/np.var(returns))\n",
    "inv_opinion = []\n",
    "with open(\"ticker_name.csv\", errors=\"ignore\") as f:\n",
    "    reader = csv.reader(f, delimiter=\",\")\n",
    "    for i in reader:\n",
    "        if i != \"\":\n",
    "            inv_opinion.append(float(i[1]))\n",
    "#inv_op_matrix = np.matrix(inv_opinion, data = 'float')\n",
    "opinion_returns = exp_benchret_no + np.dot(inv_opinion, blm_matrix).transpose()\n",
    "print(opinion_returns)"
   ]
  },
  {
   "cell_type": "code",
   "execution_count": 467,
   "id": "8c3b8691-5037-463e-9c26-dcf9daf2a0af",
   "metadata": {},
   "outputs": [
    {
     "name": "stdout",
     "output_type": "stream",
     "text": [
      "[[0.004733630162652068]\n",
      " [0.17218073241071616]\n",
      " [0.008277243435289114]\n",
      " [0.002396793122918963]\n",
      " [0.09536559877783217]\n",
      " [0.3967666365406744]\n",
      " [0.00876136808088288]\n",
      " [0.018968652820538674]\n",
      " [0.021750691634595778]\n",
      " [0.023064770001856295]\n",
      " [0.024761252581603263]\n",
      " [0.02518366113305025]\n",
      " [0.014503883535168295]\n",
      " [0.032741736879050874]\n",
      " [0.009571822985148417]\n",
      " [0.01816600562724632]\n",
      " [0.018748339157248488]\n",
      " [0.05533883581879437]\n",
      " [0.023235035123594667]\n",
      " [0.02548331017113863]]\n"
     ]
    }
   ],
   "source": [
    "#Optimized Portfolio adjusted for Investor Opinion\n",
    "opt_port_weights = np.dot(inverse,opinion_returns-rfr)/(np.dot(inverse,opinion_returns-rfr)).sum()\n",
    "print(opt_port_weights)"
   ]
  },
  {
   "cell_type": "code",
   "execution_count": null,
   "id": "ff090bcb-b277-4560-aba6-c654f94a48f1",
   "metadata": {},
   "outputs": [],
   "source": []
  }
 ],
 "metadata": {
  "kernelspec": {
   "display_name": "Python 3 (ipykernel)",
   "language": "python",
   "name": "python3"
  },
  "language_info": {
   "codemirror_mode": {
    "name": "ipython",
    "version": 3
   },
   "file_extension": ".py",
   "mimetype": "text/x-python",
   "name": "python",
   "nbconvert_exporter": "python",
   "pygments_lexer": "ipython3",
   "version": "3.12.4"
  }
 },
 "nbformat": 4,
 "nbformat_minor": 5
}
